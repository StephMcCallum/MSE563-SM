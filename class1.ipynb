{
  "nbformat": 4,
  "nbformat_minor": 0,
  "metadata": {
    "colab": {
      "provenance": [],
      "authorship_tag": "ABX9TyP4M03/7cL8eJogAIGUnVI8",
      "include_colab_link": true
    },
    "kernelspec": {
      "name": "python3",
      "display_name": "Python 3"
    },
    "language_info": {
      "name": "python"
    }
  },
  "cells": [
    {
      "cell_type": "markdown",
      "metadata": {
        "id": "view-in-github",
        "colab_type": "text"
      },
      "source": [
        "<a href=\"https://colab.research.google.com/github/StephMcCallum/MSE563-SM/blob/main/class1.ipynb\" target=\"_parent\"><img src=\"https://colab.research.google.com/assets/colab-badge.svg\" alt=\"Open In Colab\"/></a>"
      ]
    },
    {
      "cell_type": "code",
      "execution_count": 35,
      "metadata": {
        "id": "ma7cQZBjtZxo"
      },
      "outputs": [],
      "source": [
        "N = 20\n",
        "l = (4*10**9)**2"
      ]
    },
    {
      "cell_type": "code",
      "source": [
        "num = l**N\n",
        "print(num)"
      ],
      "metadata": {
        "colab": {
          "base_uri": "https://localhost:8080/"
        },
        "id": "FIR6QI-luZfv",
        "outputId": "c7716188-7501-4cdc-e0d4-780202b111f1"
      },
      "execution_count": 36,
      "outputs": [
        {
          "output_type": "stream",
          "name": "stdout",
          "text": [
            "1208925819614629174706176000000000000000000000000000000000000000000000000000000000000000000000000000000000000000000000000000000000000000000000000000000000000000000000000000000000000000000000000000000000000000000000000000000000000000000000000000000000000000000000000000000000000000000000000000000000000000000000000000000000000000000000000000000000000000000000000000000000000000000000000\n"
          ]
        }
      ]
    },
    {
      "cell_type": "code",
      "source": [
        "evals = 267*10**7\n",
        "years = num//evals//(315*10**5)\n",
        "print(years)"
      ],
      "metadata": {
        "id": "7ZO_O4xXum7d",
        "outputId": "d57b0043-90d2-4a18-e5fa-6d04a1b9922e",
        "colab": {
          "base_uri": "https://localhost:8080/"
        }
      },
      "execution_count": 39,
      "outputs": [
        {
          "output_type": "stream",
          "name": "stdout",
          "text": [
            "14374006534862721297261470780571904167409785387313477201117650555852803043814279769335949111230010106414600796623268533380892931454729207538196302241246061470780571904167409785387313477201117650555852803043814279769335949111230010106414600796623268533380892931454729207538196302241246061470780571904167409785387313477201117650555852803043814279769335949111230010106414\n"
          ]
        }
      ]
    },
    {
      "cell_type": "code",
      "source": [],
      "metadata": {
        "id": "XeZb0Q4m0pmx"
      },
      "execution_count": null,
      "outputs": []
    }
  ]
}