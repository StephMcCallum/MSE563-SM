{
  "nbformat": 4,
  "nbformat_minor": 0,
  "metadata": {
    "colab": {
      "provenance": [],
      "authorship_tag": "ABX9TyPi2XUK7vIpGIutfn1kc56P",
      "include_colab_link": true
    },
    "kernelspec": {
      "name": "python3",
      "display_name": "Python 3"
    },
    "language_info": {
      "name": "python"
    }
  },
  "cells": [
    {
      "cell_type": "markdown",
      "metadata": {
        "id": "view-in-github",
        "colab_type": "text"
      },
      "source": [
        "<a href=\"https://colab.research.google.com/github/StephMcCallum/MSE563-SM/blob/main/Week_1_Combinatorics_HW_SM.ipynb\" target=\"_parent\"><img src=\"https://colab.research.google.com/assets/colab-badge.svg\" alt=\"Open In Colab\"/></a>"
      ]
    },
    {
      "cell_type": "code",
      "execution_count": 1,
      "metadata": {
        "id": "z35MavT6sDIV",
        "outputId": "6f798666-4fee-443c-9acf-5cdf0f828f4d",
        "colab": {
          "base_uri": "https://localhost:8080/"
        }
      },
      "outputs": [
        {
          "output_type": "stream",
          "name": "stdout",
          "text": [
            "The total configuraitons of the combined system is:  1e+42\n"
          ]
        }
      ],
      "source": [
        "##Question 1.1\n",
        "#configurations of a combined system\n",
        "omega_1 = 1.0*10**20\n",
        "omega_2 = 1.0*10**22\n",
        "total_configs = omega_1*omega_2\n",
        "print(\"The total configuraitons of the combined system is: \", total_configs)"
      ]
    },
    {
      "cell_type": "code",
      "source": [
        "##1.1 cont.\n",
        "#entropies S, S_1, and S_2\n",
        "import numpy as np\n",
        "k_B = 1.38066*10**-23 #Boltzman constant J/K\n",
        "total_entropy = k_B*np.log(total_configs)\n",
        "S_1 = k_B*np.log(omega_1)\n",
        "S_2 = k_B*np.log(omega_2)\n",
        "print(\"Entropy, S = \",total_entropy,\"\\nS_1 = \", S_1,\"\\nS_2 = \",S_2)"
      ],
      "metadata": {
        "id": "94nFTZzJuEbK",
        "outputId": "f258aa62-01ae-47e1-ca8a-158b06192403",
        "colab": {
          "base_uri": "https://localhost:8080/"
        }
      },
      "execution_count": 2,
      "outputs": [
        {
          "output_type": "stream",
          "name": "stdout",
          "text": [
            "Entropy, S =  1.3352165964871268e-21 \n",
            "S_1 =  6.358174268986318e-22 \n",
            "S_2 =  6.99399169588495e-22\n"
          ]
        }
      ]
    },
    {
      "cell_type": "code",
      "source": [
        "##1.2\n",
        "##based on equation 2.1.6 and delta S for isothermal system\n",
        "exp_factor = 1 + 0.00001\n",
        "T = 300.0 #K\n",
        "V_1 = 10.0 #m^3\n",
        "P_1 = 1.0 #atm\n",
        "R = 8.205745*10**-5 #m^3*atm/K*mol\n",
        "k_B = 1.38066*10**-23\n",
        "##ideal gas law to solve for mols\n",
        "n = (P_1*V_1)/(R*T)\n",
        "V_2 = V_1*exp_factor\n",
        "delta_S = n*R*np.log(V_2/V_1)\n",
        "factor = (np.e)**(delta_S/k_B)\n",
        "print(\"increase factor for available configurations: e^\",(delta_S/k_B),\" = \", factor)"
      ],
      "metadata": {
        "id": "u0L8Up3-wOFZ",
        "outputId": "0e795cd3-49f2-4747-97c4-66895fb6c5ed",
        "colab": {
          "base_uri": "https://localhost:8080/"
        }
      },
      "execution_count": 3,
      "outputs": [
        {
          "output_type": "stream",
          "name": "stdout",
          "text": [
            "increase factor for available configurations: e^ 2.414292198513475e+16  =  inf\n"
          ]
        },
        {
          "output_type": "stream",
          "name": "stderr",
          "text": [
            "<ipython-input-3-d28e644f3fbe>:13: RuntimeWarning: overflow encountered in scalar power\n",
            "  factor = (np.e)**(delta_S/k_B)\n"
          ]
        }
      ]
    },
    {
      "cell_type": "code",
      "source": [
        "##1.3\n",
        "##based on equation 2.1.6 and delta S for isochoric system\n",
        "T_1 = 300.0 #K\n",
        "n = 2.0 #mol\n",
        "Q = 150000.0 #J\n",
        "R = 8.314 #J/K*mol\n",
        "k_B = 1.38066*10**-23\n",
        "##specific heat equations, assuming ideal gas\n",
        "C_v = (3/2)*R\n",
        "T_2 = (Q/(n*C_v))+T_1\n",
        "\n",
        "delta_S = n*C_v*np.log(T_2/T_1)\n",
        "factor = (np.e)**(delta_S/k_B)\n",
        "print(\"increase factor for available configurations: e^\",(delta_S/k_B),\" = \", factor)"
      ],
      "metadata": {
        "id": "JncTRMYlVrzR",
        "outputId": "53248aee-f493-436f-e585-dbedf197b567",
        "colab": {
          "base_uri": "https://localhost:8080/"
        }
      },
      "execution_count": 4,
      "outputs": [
        {
          "output_type": "stream",
          "name": "stdout",
          "text": [
            "increase factor for available configurations: e^ 5.504009362206831e+24  =  inf\n"
          ]
        },
        {
          "output_type": "stream",
          "name": "stderr",
          "text": [
            "<ipython-input-4-e9570841c479>:13: RuntimeWarning: overflow encountered in scalar power\n",
            "  factor = (np.e)**(delta_S/k_B)\n"
          ]
        }
      ]
    },
    {
      "cell_type": "code",
      "source": [
        "##1.4\n",
        "from tabulate import tabulate\n",
        "\n",
        "sequences = [#configurations where particle energies add up to 5\n",
        "    [1,1,1,1,1],\n",
        "    [5,0,0,0,0],\n",
        "    [4,1,0,0,0],\n",
        "    [3,2,0,0,0],\n",
        "    [2,1,1,1,0],\n",
        "    [3,1,1,0,0],\n",
        "    [2,2,1,0,0]\n",
        "]\n",
        "\n",
        "#probability of epsilon from 0-5\n",
        "energy_states = [\n",
        "    [0,5,0,0,0,0,1],\n",
        "    [4,0,0,0,0,1,5],\n",
        "    [3,1,0,0,1,0,20],\n",
        "    [3,0,1,1,0,0,20],\n",
        "    [1,3,1,0,0,0,20],\n",
        "    [2,2,0,1,0,0,30],\n",
        "    [2,1,2,0,0,0,30]\n",
        "]\n",
        "\n",
        "headers = [\"0\",\"1e\",\"2e\",\"3e\",\"4e\",\"5e\",\"possible congfigurations \\n = N!/n_1!n_2!... \\nwhere N=5 particles\"]\n",
        "\n",
        "print(tabulate(energy_states,headers=headers))\n",
        "print(\"The most probable configuration is two particles with two eplison and one particles with one epsilon [2,2,1,0,0] or \\none particle with three epsilon and two particles with one epsilon [3,1,1,0,0] because they have the highest possible configurations.\")"
      ],
      "metadata": {
        "id": "CrvzXAXxbBMo",
        "outputId": "d373eba0-820f-4769-8ad1-bff032fd26b8",
        "colab": {
          "base_uri": "https://localhost:8080/"
        }
      },
      "execution_count": 21,
      "outputs": [
        {
          "output_type": "stream",
          "name": "stdout",
          "text": [
            "  0    1e    2e    3e    4e    5e    possible congfigurations\n",
            "                                             = N!/n_1!n_2!...\n",
            "                                           where N=5 particles\n",
            "---  ----  ----  ----  ----  ----  ---------------------------\n",
            "  0     5     0     0     0     0                            1\n",
            "  4     0     0     0     0     1                            5\n",
            "  3     1     0     0     1     0                           20\n",
            "  3     0     1     1     0     0                           20\n",
            "  1     3     1     0     0     0                           20\n",
            "  2     2     0     1     0     0                           30\n",
            "  2     1     2     0     0     0                           30\n",
            "The most probable configuration is two particles with two eplison and one particles with one epsilon [2,2,1,0,0] or \n",
            "one particle with three epsilon and two particles with one epsilon [3,1,1,0,0] because they have the highest possible configurations.\n"
          ]
        }
      ]
    },
    {
      "cell_type": "code",
      "source": [],
      "metadata": {
        "id": "858rIPYrHKlO"
      },
      "execution_count": null,
      "outputs": []
    }
  ]
}