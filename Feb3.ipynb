{
  "nbformat": 4,
  "nbformat_minor": 0,
  "metadata": {
    "colab": {
      "provenance": [],
      "authorship_tag": "ABX9TyP9+XeTTRfoGORHqgkKPeSk",
      "include_colab_link": true
    },
    "kernelspec": {
      "name": "python3",
      "display_name": "Python 3"
    },
    "language_info": {
      "name": "python"
    }
  },
  "cells": [
    {
      "cell_type": "markdown",
      "metadata": {
        "id": "view-in-github",
        "colab_type": "text"
      },
      "source": [
        "<a href=\"https://colab.research.google.com/github/StephMcCallum/MSE563-SM/blob/main/Feb3.ipynb\" target=\"_parent\"><img src=\"https://colab.research.google.com/assets/colab-badge.svg\" alt=\"Open In Colab\"/></a>"
      ]
    },
    {
      "cell_type": "code",
      "execution_count": 1,
      "metadata": {
        "id": "QEAYCSuGj8u8"
      },
      "outputs": [],
      "source": [
        "#lattice-mc\n",
        "#square-lattice MC\n",
        "#particles to sit on a grid\n",
        "#calculate energy of your grid\n",
        "#trial moves that obey detail balance\n",
        "#have periodic boundary conditions"
      ]
    },
    {
      "cell_type": "code",
      "source": [
        "import numpy as np\n",
        "import random\n",
        "#object-oriented approach\n",
        "class grid():\n",
        "  #size and particles\n",
        "  #helper function for neighbor sites to a particle\n",
        "  def __init__(self,L,N):\n",
        "    self.sites = np.zeros((L,L))\n",
        "    self.N = N\n",
        "    self.L = L\n",
        "    self.particles = []\n",
        "    for i in range(self.N):\n",
        "      self.particles.append(particle(self))\n",
        "      self.particles[i].location = [random.randint(0,L-1),random.randint(0,L-1)]\n",
        "      self.sites[self.particles[i].location[0],self.particles[i].location[1]] = 1\n",
        "\n",
        "  def pbc(self,s):\n",
        "      if s>=self.L:\n",
        "        s = s-self.L\n",
        "      elif s < 0:\n",
        "        s = s+self.L\n",
        "      return s\n",
        "\n",
        "  def microstates(self):\n",
        "    count = 0\n",
        "    for i in range(self.L):\n",
        "      for j in range(self.L):\n",
        "        if -1 < (i+1) < self.L:\n",
        "          if self.sites[i,j] == 1 and self.sites[i+1,j] == 1:\n",
        "            count += -1\n",
        "        if -1 < (j+1) < self.L:\n",
        "          if self.sites[i,j] == 1 and self.sites[i,j+1] == 1:\n",
        "            count += -1\n",
        "        if -1 < (i-1) < self.L:\n",
        "          if self.sites[i,j] == 1 and self.sites[i-1,j] == 1:\n",
        "            count += -1\n",
        "        if -1 < (j-1) < self.L:\n",
        "          if self.sites[i,j] == 1 and self.sites[i,j-1] == 1:\n",
        "            count += -1\n",
        "        if 0 > (i+1) >= self.L:\n",
        "          #update coordinates with pbc\n",
        "          coor = self.pbc(i+1)\n",
        "          if self.sites[i,j] == 1 and self.sites[coor,j] == 1:\n",
        "            count += -1\n",
        "        if 0 < (j+1) >= self.L:\n",
        "          coor = self.pbc(j+1)\n",
        "          if self.sites[i,j] == 1 and self.sites[i,coor] == 1:\n",
        "            count += -1\n",
        "        if 0 < (i-1) >= self.L:\n",
        "          coor = self.pbc(i-1)\n",
        "          if self.sites[i,j] == 1 and self.sites[coor,j] == 1:\n",
        "            count += -1\n",
        "        if 0 < (j-1) >= self.L:\n",
        "          coor = self.pbc(j-1)\n",
        "          if self.sites[i,j] == 1 and self.sites[i,coor] == 1:\n",
        "            count += -1\n",
        "    E = count//2 #double counts pairs\n",
        "    return E"
      ],
      "metadata": {
        "id": "VK-xwxObxXMD"
      },
      "execution_count": 13,
      "outputs": []
    },
    {
      "cell_type": "code",
      "source": [
        "class particle():\n",
        "  def __init__(self,system):\n",
        "    self.system = system\n",
        "    self.location = [0,0]\n",
        "    system.sites[self.location] == 1\n",
        "\n",
        "  def available_neighbors(self,system):\n",
        "    neighbors = []\n",
        "    if system.sites[self.location[0],self.location[1]] == 1:\n",
        "      i = self.location[0]\n",
        "      j = self.location[1]\n",
        "      neighbors.append([i+1,j])\n",
        "      neighbors.append([i,j+1])\n",
        "      neighbors.append([i-1,j])\n",
        "      neighbors.append([i,j-1])\n",
        "    for ind in neighbors:\n",
        "      print(ind)\n",
        "      if system.L <= ind[0] < 0:\n",
        "        ind[0] = system.pbc(ind[0])\n",
        "      if system.L <= ind[1] < 0:\n",
        "        ind[1] = system.pbc(ind[1])\n",
        "      if system.sites[ind[0],ind[1]] == 1:\n",
        "        neighbors.remove(ind)\n",
        "    return neighbors"
      ],
      "metadata": {
        "id": "nYNySi601sfr"
      },
      "execution_count": 58,
      "outputs": []
    },
    {
      "cell_type": "code",
      "source": [
        "sample_system = grid(4,10)\n",
        "print(sample_system.sites)\n",
        "print(sample_system.microstates())"
      ],
      "metadata": {
        "colab": {
          "base_uri": "https://localhost:8080/"
        },
        "collapsed": true,
        "id": "0ulkiRHlyUUC",
        "outputId": "e430ba7d-9171-4f5c-c1f0-b9ca3143e0fd"
      },
      "execution_count": 31,
      "outputs": [
        {
          "output_type": "stream",
          "name": "stdout",
          "text": [
            "[[0. 1. 0. 1.]\n",
            " [1. 0. 1. 0.]\n",
            " [1. 1. 1. 0.]\n",
            " [0. 0. 1. 0.]]\n",
            "-5\n"
          ]
        }
      ]
    },
    {
      "cell_type": "code",
      "source": [
        "import random\n",
        "import scipy\n",
        "import math\n",
        "def sim(N,L,T,trials): #NVT Monte Carlo Function\n",
        "  system = grid(L,N)\n",
        "\n",
        "  N = N\n",
        "  #trial move\n",
        "  for i in range(trials):\n",
        "    random_particle = random.choice(range(N))\n",
        "    print(random_particle,system.particles[random_particle].location)\n",
        "    random_location = random.choice(system.particles[random_particle].available_neighbors(system))\n",
        "    copy_system = system\n",
        "    copy_system.particles[random_location] = 1\n",
        "    copy_system.sites[system.particles[random_particle].location] = 0\n",
        "    #calculate energy\n",
        "    delta_energy = copy_system.microstates() - system.microstates()\n",
        "    boltzman_weight = - delta_energy / (scipy.constants.k * T)\n",
        "    if np.random.random() < math.exp(boltzman_weight):\n",
        "      #accept move\n",
        "      print(\"accept\")\n",
        "      system == copy_system\n",
        "      print(system.sites)\n",
        "    else:\n",
        "      continue"
      ],
      "metadata": {
        "id": "0kmVd5Aqyeg-"
      },
      "execution_count": 70,
      "outputs": []
    },
    {
      "cell_type": "code",
      "source": [
        "sim(10,10,30,5)"
      ],
      "metadata": {
        "id": "_WkkQ6MpSW69",
        "outputId": "bbde0a53-f6d1-4b2b-c0fb-5423fe069476",
        "colab": {
          "base_uri": "https://localhost:8080/",
          "height": 843
        }
      },
      "execution_count": 71,
      "outputs": [
        {
          "output_type": "stream",
          "name": "stdout",
          "text": [
            "7 [3, 1]\n",
            "[4, 1]\n",
            "[3, 2]\n",
            "[2, 1]\n",
            "[3, 0]\n",
            "accept\n",
            "[[1. 1. 1. 1. 1. 1. 1. 1. 1. 1.]\n",
            " [0. 0. 0. 0. 0. 0. 0. 0. 0. 0.]\n",
            " [0. 0. 0. 0. 0. 0. 0. 0. 1. 0.]\n",
            " [0. 0. 0. 0. 0. 0. 0. 0. 0. 0.]\n",
            " [1. 0. 0. 0. 0. 0. 0. 0. 0. 0.]\n",
            " [0. 0. 0. 0. 0. 0. 0. 0. 0. 0.]\n",
            " [0. 0. 1. 0. 0. 0. 0. 0. 0. 0.]\n",
            " [0. 0. 0. 0. 1. 0. 0. 0. 1. 0.]\n",
            " [0. 0. 0. 0. 0. 0. 1. 0. 0. 0.]\n",
            " [0. 0. 0. 0. 0. 0. 0. 0. 0. 0.]]\n",
            "9 [2, 8]\n",
            "[3, 8]\n",
            "[2, 9]\n",
            "[1, 8]\n",
            "[2, 7]\n",
            "accept\n",
            "[[1. 1. 1. 1. 1. 1. 1. 1. 1. 1.]\n",
            " [0. 0. 0. 0. 0. 0. 0. 0. 0. 0.]\n",
            " [0. 0. 0. 0. 0. 0. 0. 0. 0. 0.]\n",
            " [0. 0. 0. 0. 0. 0. 0. 0. 0. 0.]\n",
            " [1. 0. 0. 0. 0. 0. 0. 0. 0. 0.]\n",
            " [0. 0. 0. 0. 0. 0. 0. 0. 0. 0.]\n",
            " [0. 0. 1. 0. 0. 0. 0. 0. 0. 0.]\n",
            " [0. 0. 0. 0. 1. 0. 0. 0. 1. 0.]\n",
            " [0. 0. 0. 0. 0. 0. 0. 0. 0. 0.]\n",
            " [1. 1. 1. 1. 1. 1. 1. 1. 1. 1.]]\n",
            "2 [1, 7]\n"
          ]
        },
        {
          "output_type": "error",
          "ename": "IndexError",
          "evalue": "Cannot choose from an empty sequence",
          "traceback": [
            "\u001b[0;31m---------------------------------------------------------------------------\u001b[0m",
            "\u001b[0;31mIndexError\u001b[0m                                Traceback (most recent call last)",
            "\u001b[0;32m<ipython-input-71-ec7130ca387d>\u001b[0m in \u001b[0;36m<cell line: 0>\u001b[0;34m()\u001b[0m\n\u001b[0;32m----> 1\u001b[0;31m \u001b[0msim\u001b[0m\u001b[0;34m(\u001b[0m\u001b[0;36m10\u001b[0m\u001b[0;34m,\u001b[0m\u001b[0;36m10\u001b[0m\u001b[0;34m,\u001b[0m\u001b[0;36m30\u001b[0m\u001b[0;34m,\u001b[0m\u001b[0;36m5\u001b[0m\u001b[0;34m)\u001b[0m\u001b[0;34m\u001b[0m\u001b[0;34m\u001b[0m\u001b[0m\n\u001b[0m",
            "\u001b[0;32m<ipython-input-70-575a4ffe682b>\u001b[0m in \u001b[0;36msim\u001b[0;34m(N, L, T, trials)\u001b[0m\n\u001b[1;32m     10\u001b[0m     \u001b[0mrandom_particle\u001b[0m \u001b[0;34m=\u001b[0m \u001b[0mrandom\u001b[0m\u001b[0;34m.\u001b[0m\u001b[0mchoice\u001b[0m\u001b[0;34m(\u001b[0m\u001b[0mrange\u001b[0m\u001b[0;34m(\u001b[0m\u001b[0mN\u001b[0m\u001b[0;34m)\u001b[0m\u001b[0;34m)\u001b[0m\u001b[0;34m\u001b[0m\u001b[0;34m\u001b[0m\u001b[0m\n\u001b[1;32m     11\u001b[0m     \u001b[0mprint\u001b[0m\u001b[0;34m(\u001b[0m\u001b[0mrandom_particle\u001b[0m\u001b[0;34m,\u001b[0m\u001b[0msystem\u001b[0m\u001b[0;34m.\u001b[0m\u001b[0mparticles\u001b[0m\u001b[0;34m[\u001b[0m\u001b[0mrandom_particle\u001b[0m\u001b[0;34m]\u001b[0m\u001b[0;34m.\u001b[0m\u001b[0mlocation\u001b[0m\u001b[0;34m)\u001b[0m\u001b[0;34m\u001b[0m\u001b[0;34m\u001b[0m\u001b[0m\n\u001b[0;32m---> 12\u001b[0;31m     \u001b[0mrandom_location\u001b[0m \u001b[0;34m=\u001b[0m \u001b[0mrandom\u001b[0m\u001b[0;34m.\u001b[0m\u001b[0mchoice\u001b[0m\u001b[0;34m(\u001b[0m\u001b[0msystem\u001b[0m\u001b[0;34m.\u001b[0m\u001b[0mparticles\u001b[0m\u001b[0;34m[\u001b[0m\u001b[0mrandom_particle\u001b[0m\u001b[0;34m]\u001b[0m\u001b[0;34m.\u001b[0m\u001b[0mavailable_neighbors\u001b[0m\u001b[0;34m(\u001b[0m\u001b[0msystem\u001b[0m\u001b[0;34m)\u001b[0m\u001b[0;34m)\u001b[0m\u001b[0;34m\u001b[0m\u001b[0;34m\u001b[0m\u001b[0m\n\u001b[0m\u001b[1;32m     13\u001b[0m     \u001b[0mcopy_system\u001b[0m \u001b[0;34m=\u001b[0m \u001b[0msystem\u001b[0m\u001b[0;34m\u001b[0m\u001b[0;34m\u001b[0m\u001b[0m\n\u001b[1;32m     14\u001b[0m     \u001b[0mcopy_system\u001b[0m\u001b[0;34m.\u001b[0m\u001b[0msites\u001b[0m\u001b[0;34m[\u001b[0m\u001b[0mrandom_location\u001b[0m\u001b[0;34m]\u001b[0m \u001b[0;34m=\u001b[0m \u001b[0;36m1\u001b[0m\u001b[0;34m\u001b[0m\u001b[0;34m\u001b[0m\u001b[0m\n",
            "\u001b[0;32m/usr/lib/python3.11/random.py\u001b[0m in \u001b[0;36mchoice\u001b[0;34m(self, seq)\u001b[0m\n\u001b[1;32m    371\u001b[0m         \u001b[0;31m# because bool(numpy.array()) raises a ValueError.\u001b[0m\u001b[0;34m\u001b[0m\u001b[0;34m\u001b[0m\u001b[0m\n\u001b[1;32m    372\u001b[0m         \u001b[0;32mif\u001b[0m \u001b[0;32mnot\u001b[0m \u001b[0mlen\u001b[0m\u001b[0;34m(\u001b[0m\u001b[0mseq\u001b[0m\u001b[0;34m)\u001b[0m\u001b[0;34m:\u001b[0m\u001b[0;34m\u001b[0m\u001b[0;34m\u001b[0m\u001b[0m\n\u001b[0;32m--> 373\u001b[0;31m             \u001b[0;32mraise\u001b[0m \u001b[0mIndexError\u001b[0m\u001b[0;34m(\u001b[0m\u001b[0;34m'Cannot choose from an empty sequence'\u001b[0m\u001b[0;34m)\u001b[0m\u001b[0;34m\u001b[0m\u001b[0;34m\u001b[0m\u001b[0m\n\u001b[0m\u001b[1;32m    374\u001b[0m         \u001b[0;32mreturn\u001b[0m \u001b[0mseq\u001b[0m\u001b[0;34m[\u001b[0m\u001b[0mself\u001b[0m\u001b[0;34m.\u001b[0m\u001b[0m_randbelow\u001b[0m\u001b[0;34m(\u001b[0m\u001b[0mlen\u001b[0m\u001b[0;34m(\u001b[0m\u001b[0mseq\u001b[0m\u001b[0;34m)\u001b[0m\u001b[0;34m)\u001b[0m\u001b[0;34m]\u001b[0m\u001b[0;34m\u001b[0m\u001b[0;34m\u001b[0m\u001b[0m\n\u001b[1;32m    375\u001b[0m \u001b[0;34m\u001b[0m\u001b[0m\n",
            "\u001b[0;31mIndexError\u001b[0m: Cannot choose from an empty sequence"
          ]
        }
      ]
    },
    {
      "cell_type": "code",
      "source": [],
      "metadata": {
        "id": "9F-eES57Sc7p"
      },
      "execution_count": null,
      "outputs": []
    }
  ]
}