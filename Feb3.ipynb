{
  "nbformat": 4,
  "nbformat_minor": 0,
  "metadata": {
    "colab": {
      "provenance": [],
      "authorship_tag": "ABX9TyNEr83XLDnrLSHnaDKpZw80",
      "include_colab_link": true
    },
    "kernelspec": {
      "name": "python3",
      "display_name": "Python 3"
    },
    "language_info": {
      "name": "python"
    }
  },
  "cells": [
    {
      "cell_type": "markdown",
      "metadata": {
        "id": "view-in-github",
        "colab_type": "text"
      },
      "source": [
        "<a href=\"https://colab.research.google.com/github/StephMcCallum/MSE563-SM/blob/main/Feb3.ipynb\" target=\"_parent\"><img src=\"https://colab.research.google.com/assets/colab-badge.svg\" alt=\"Open In Colab\"/></a>"
      ]
    },
    {
      "cell_type": "code",
      "execution_count": null,
      "metadata": {
        "id": "QEAYCSuGj8u8"
      },
      "outputs": [],
      "source": [
        "#lattice-mc\n",
        "#square-lattice MC\n",
        "#particles to sit on a grid\n",
        "#calculate energy of your grid\n",
        "#trial moves that obey detail balance\n",
        "#have periodic boundary conditions"
      ]
    },
    {
      "cell_type": "code",
      "source": [
        "import numpy as np\n",
        "#Grid\n",
        "E=0\n",
        "grid = 4\n",
        "elements = 4\n",
        "system = np.zeros((grid,grid),dtype=int)\n",
        "#Particles\n",
        "system[0,1] = 1\n",
        "system[1,2] = 1\n",
        "print(system)\n",
        "#Calculate distances\n",
        "for i,j in grid:\n",
        "  if system[i,j] == 1 #system.particle.location\n",
        "\n",
        "for i in system.N:\n",
        "  x_1 = system.particle.location[0]\n",
        "\n",
        "\n",
        "\n",
        "\n",
        "#calc energy of a configuration\n",
        "microstates(system)"
      ],
      "metadata": {
        "id": "6G-Az_7VugYE"
      },
      "execution_count": null,
      "outputs": []
    },
    {
      "cell_type": "code",
      "source": [
        "def microstates(system):\n",
        "  count = 0\n",
        "  for i in range(grid):\n",
        "    for j in range(grid):\n",
        "      if -1 < (i+1) < grid:\n",
        "        if system[i,j] == 1 and system[i+1,j] == 1:\n",
        "          count += -1\n",
        "      if -1 < (j+1) < grid:\n",
        "        if system[i,j] == 1 and system[i,j+1] == 1:\n",
        "          count += -1\n",
        "      if -1 < (i-1) < grid:\n",
        "        if system[i,j] == 1 and system[i-1,j] == 1:\n",
        "          count += -1\n",
        "      if -1 < (j-1) < grid:\n",
        "        if system[i,j] == 1 and system[i,j-1] == 1:\n",
        "          count += -1\n",
        "  E = count//2 #double counts pairs\n",
        "  print(\"E =\",E)"
      ],
      "metadata": {
        "id": "1SfXxWBVu-Dx"
      },
      "execution_count": null,
      "outputs": []
    },
    {
      "cell_type": "code",
      "source": [
        "def neighbors(system):\n",
        "  neighbors = np.array(2,8)\n",
        "  for i,j in range(grid):\n",
        "    if system[i,j] == 1:"
      ],
      "metadata": {
        "id": "LDmWcoOMvwh8"
      },
      "execution_count": null,
      "outputs": []
    },
    {
      "cell_type": "code",
      "source": [
        "import numpy as np\n",
        "#object-oriented approach\n",
        "class grid():\n",
        "  #size and particles\n",
        "  #helper function for neighbor sites to a particle\n",
        "  def __init__(self,L,N):\n",
        "    self.sites = np.zeros((L,L))\n",
        "    self.N = N\n",
        "    self.particles = []\n",
        "    for i in range(self.N):\n",
        "      self.particles.append(particle(self))\n",
        "      self.particles[-1].location = [0,0]\n",
        "\n",
        "  def neighbors(self):\n",
        "    neighbors = []\n",
        "    for i,j in range(self.sites):\n",
        "      if self.sites[i,j] == 1:\n",
        "        neighbors.append([i+1,j],[i,j+1],[i-1,j],[i,j-1],[i-1,j+1],[i+1,j+1],[i+1,j-1],[i-1,j-1])\n",
        "    return neighbors\n",
        "\n",
        "  def microstates(self):\n",
        "    count = 0\n",
        "    for i in range(grid):\n",
        "      for j in range(grid):\n",
        "        if -1 < (i+1) < grid:\n",
        "          if system[i,j] == 1 and system[i+1,j] == 1:\n",
        "            count += -1\n",
        "        if -1 < (j+1) < grid:\n",
        "          if system[i,j] == 1 and system[i,j+1] == 1:\n",
        "            count += -1\n",
        "        if -1 < (i-1) < grid:\n",
        "          if system[i,j] == 1 and system[i-1,j] == 1:\n",
        "            count += -1\n",
        "        if -1 < (j-1) < grid:\n",
        "          if system[i,j] == 1 and system[i,j-1] == 1:\n",
        "            count += -1\n",
        "      E = count//2 #double counts pairs\n",
        "      return E"
      ],
      "metadata": {
        "id": "VK-xwxObxXMD"
      },
      "execution_count": 9,
      "outputs": []
    },
    {
      "cell_type": "code",
      "source": [
        "class particle():\n",
        "  def __init__(self,system):\n",
        "    self.system = system\n",
        "    self.location = [0,0]"
      ],
      "metadata": {
        "id": "nYNySi601sfr"
      },
      "execution_count": 10,
      "outputs": []
    },
    {
      "cell_type": "code",
      "source": [
        "sample_system = grid(10,2)\n",
        "print(sample_system.N)"
      ],
      "metadata": {
        "id": "0ulkiRHlyUUC",
        "outputId": "653e01d3-b11f-4430-ccab-88d071eda21d",
        "colab": {
          "base_uri": "https://localhost:8080/"
        }
      },
      "execution_count": 12,
      "outputs": [
        {
          "output_type": "stream",
          "name": "stdout",
          "text": [
            "2\n"
          ]
        }
      ]
    },
    {
      "cell_type": "code",
      "source": [
        "#for random particle\n",
        "import random\n",
        "random_particle = random.choice(sample_system.N)\n",
        "random_location = random.choice(neighbors(sample_system))[random_particle]\n",
        "\n"
      ],
      "metadata": {
        "id": "0kmVd5Aqyeg-"
      },
      "execution_count": null,
      "outputs": []
    }
  ]
}