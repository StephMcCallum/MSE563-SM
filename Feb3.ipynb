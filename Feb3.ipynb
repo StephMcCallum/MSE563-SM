{
  "nbformat": 4,
  "nbformat_minor": 0,
  "metadata": {
    "colab": {
      "provenance": [],
      "authorship_tag": "ABX9TyOAaJodqxuT3k2LUeKNoLO0",
      "include_colab_link": true
    },
    "kernelspec": {
      "name": "python3",
      "display_name": "Python 3"
    },
    "language_info": {
      "name": "python"
    }
  },
  "cells": [
    {
      "cell_type": "markdown",
      "metadata": {
        "id": "view-in-github",
        "colab_type": "text"
      },
      "source": [
        "<a href=\"https://colab.research.google.com/github/StephMcCallum/MSE563-SM/blob/main/Feb3.ipynb\" target=\"_parent\"><img src=\"https://colab.research.google.com/assets/colab-badge.svg\" alt=\"Open In Colab\"/></a>"
      ]
    },
    {
      "cell_type": "code",
      "execution_count": null,
      "metadata": {
        "id": "QEAYCSuGj8u8"
      },
      "outputs": [],
      "source": [
        "#lattice-mc\n",
        "#square-lattice MC\n",
        "#particles to sit on a grid\n",
        "#calculate energy of your grid\n",
        "#trial moves that obey detail balance\n",
        "#have periodic boundary conditions"
      ]
    },
    {
      "cell_type": "code",
      "source": [
        "import numpy as np\n",
        "import random\n",
        "#object-oriented approach\n",
        "class grid():\n",
        "  #size and particles\n",
        "  #helper function for neighbor sites to a particle\n",
        "  def __init__(self,L,N):\n",
        "    self.sites = np.zeros((L,L))\n",
        "    self.N = N\n",
        "    self.L = L\n",
        "    self.particles = []\n",
        "    for i in range(self.N):\n",
        "      self.particles.append(particle(self))\n",
        "      self.particles[i].location = [random.randint(0,L-1),random.randint(0,L-1)]\n",
        "      self.sites[self.particles[i].location[0],self.particles[i].location[1]] = 1\n",
        "\n",
        "  def neighbors(self):\n",
        "    neighbors = []\n",
        "    for i,j in range(self.sites):\n",
        "      if self.sites[i,j] == 1:\n",
        "        neighbors.append([i+1,j],[i,j+1],[i-1,j],[i,j-1],[i-1,j+1],[i+1,j+1],[i+1,j-1],[i-1,j-1])\n",
        "    return neighbors\n",
        "\n",
        "  def microstates(self):\n",
        "    count = 0\n",
        "    for i in range(self.L):\n",
        "        if -1 < (i+1) < self.L:\n",
        "          if self.sites[i,j] == 1 and self.sites[i+1,j] == 1:\n",
        "            count += -1\n",
        "        if -1 < (j+1) < self.L:\n",
        "          if self.sites[i,j] == 1 and self.sites[i,j+1] == 1:\n",
        "            count += -1\n",
        "        if -1 < (i-1) < self.L:\n",
        "          if self.sites[i,j] == 1 and self.sites[i-1,j] == 1:\n",
        "            count += -1\n",
        "        if -1 < (j-1) < self.L:\n",
        "          if self.sites[i,j] == 1 and self.sites[i,j-1] == 1:\n",
        "            count += -1\n",
        "        if 0 > (i+1) >= self.L:\n",
        "          #update coordinates with pbc\n",
        "          coor = self.pbc(i+1)\n",
        "          if self.sites[i,j] == 1 and self.sites[coor,j] == 1:\n",
        "            count += -1\n",
        "        if 0 < (j+1) >= self.L:\n",
        "          coor = self.pbc(j+1)\n",
        "          if self.sites[i,j] == 1 and self.sites[i,coor] == 1:\n",
        "            count += -1\n",
        "        if 0 < (i-1) >= self.L:\n",
        "          coor = self.pbc(i-1)\n",
        "          if self.sites[i,j] == 1 and self.sites[coor,j] == 1:\n",
        "            count += -1\n",
        "        if 0 < (j-1) >= self.L:\n",
        "          coor = self.pbc(j-1)\n",
        "          if self.sites[i,j] == 1 and self.sites[i,coor] == 1:\n",
        "            count += -1\n",
        "    E = count//2 #double counts pairs\n",
        "    return E\n",
        "\n",
        "    def pbc(self,s):\n",
        "      if s>=self.L:\n",
        "        s = s-self.L\n",
        "      elif s < 0:\n",
        "        s = s+self.L\n",
        "      return s"
      ],
      "metadata": {
        "id": "VK-xwxObxXMD"
      },
      "execution_count": 60,
      "outputs": []
    },
    {
      "cell_type": "code",
      "source": [
        "class particle():\n",
        "  def __init__(self,system):\n",
        "    self.system = system\n",
        "    self.location = [0,0]\n",
        "    system.sites[self.location] == 1\n",
        "\n",
        "  def available_neighbors(self,system):\n",
        "    neighbors = []\n",
        "    for i,j in range(system.L):\n",
        "      if self.sites[i,j] == 1:\n",
        "        neighbors.append([i+1,j],[i,j+1],[i-1,j],[i,j-1])\n",
        "    for ind in neighbors:\n",
        "      if system.sites[ind] = 1\n",
        "        neighbors.remove(ind)\n",
        "      if system.L <= ind[1] < 0:\n",
        "        ind[0] = system.pbc(ind[0])\n",
        "      if system.L <= ind[0] < 0:\n",
        "        ind[1] = system.pbc(ind[1])\n",
        "    return neighbors"
      ],
      "metadata": {
        "id": "nYNySi601sfr"
      },
      "execution_count": 54,
      "outputs": []
    },
    {
      "cell_type": "code",
      "source": [
        "sample_system = grid(4,10)\n",
        "print(sample_system.sites)\n",
        "print(sample_system.microstates())"
      ],
      "metadata": {
        "colab": {
          "base_uri": "https://localhost:8080/"
        },
        "collapsed": true,
        "id": "0ulkiRHlyUUC",
        "outputId": "8a701357-9f75-4209-e6dd-31e833ef0956"
      },
      "execution_count": 63,
      "outputs": [
        {
          "output_type": "stream",
          "name": "stdout",
          "text": [
            "[[0. 1. 1. 1.]\n",
            " [0. 0. 0. 1.]\n",
            " [1. 0. 0. 1.]\n",
            " [0. 0. 0. 1.]]\n",
            "4 0 0\n",
            "4 0 1\n",
            "4 0 2\n",
            "4 0 3\n",
            "4 1 0\n",
            "4 1 1\n",
            "4 1 2\n",
            "4 1 3\n",
            "4 2 0\n",
            "4 2 1\n",
            "4 2 2\n",
            "4 2 3\n",
            "4 3 0\n",
            "4 3 1\n",
            "4 3 2\n",
            "4 3 3\n",
            "-5\n"
          ]
        }
      ]
    },
    {
      "cell_type": "code",
      "source": [
        "import random\n",
        "import scipy\n",
        "import math\n",
        "def sim(N,L,T,trials):\n",
        "  system = grid(L,N)\n",
        "\n",
        "  #trial move\n",
        "  for i in trials:\n",
        "    random_particle = random.choice(system.N)\n",
        "    random_location = random.choice(system.neighbors(system.particles[random_particle]))\n",
        "    copy_system = system\n",
        "    copy_system.sites[random_location] = 1\n",
        "    copy_system.sites[system.particles[random_particle].location] = 0\n",
        "    #calculate energy\n",
        "    delta_energy = copy_system.microstates() - system.microstates()\n",
        "    boltzman_weight = - delta_energy / (scipy.constants.k * T)\n",
        "    if np.random < math.exp(boltzman_weight):\n",
        "      #accept move\n",
        "      system = copy_system\n",
        "    else:\n",
        "      continue"
      ],
      "metadata": {
        "id": "0kmVd5Aqyeg-"
      },
      "execution_count": null,
      "outputs": []
    }
  ]
}