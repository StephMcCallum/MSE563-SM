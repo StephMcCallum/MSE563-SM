{
  "nbformat": 4,
  "nbformat_minor": 0,
  "metadata": {
    "colab": {
      "provenance": [],
      "authorship_tag": "ABX9TyOqoQjHKHdJYJqJ0b7k56Ok",
      "include_colab_link": true
    },
    "kernelspec": {
      "name": "python3",
      "display_name": "Python 3"
    },
    "language_info": {
      "name": "python"
    }
  },
  "cells": [
    {
      "cell_type": "markdown",
      "metadata": {
        "id": "view-in-github",
        "colab_type": "text"
      },
      "source": [
        "<a href=\"https://colab.research.google.com/github/StephMcCallum/MSE563-SM/blob/main/Week_2_Equilibrium_SM.ipynb\" target=\"_parent\"><img src=\"https://colab.research.google.com/assets/colab-badge.svg\" alt=\"Open In Colab\"/></a>"
      ]
    },
    {
      "cell_type": "code",
      "source": [
        "import numpy as np"
      ],
      "metadata": {
        "id": "7wxKNbOCI-ak"
      },
      "execution_count": 1,
      "outputs": []
    },
    {
      "cell_type": "code",
      "execution_count": 2,
      "metadata": {
        "id": "-EAp133zFpg7"
      },
      "outputs": [],
      "source": [
        "def microstates(system):\n",
        "  count = 0\n",
        "  for i in range(grid):\n",
        "    for j in range(grid):\n",
        "      if -1 < (i+1) < grid:\n",
        "        if system[i,j] == 1 and system[i+1,j] == 1:\n",
        "          count += -1\n",
        "      if -1 < (j+1) < grid:\n",
        "        if system[i,j] == 1 and system[i,j+1] == 1:\n",
        "          count += -1\n",
        "      if -1 < (i-1) < grid:\n",
        "        if system[i,j] == 1 and system[i-1,j] == 1:\n",
        "          count += -1\n",
        "      if -1 < (j-1) < grid:\n",
        "        if system[i,j] == 1 and system[i,j-1] == 1:\n",
        "          count += -1\n",
        "  E = count//2 #double counts pairs\n",
        "  print(\"E =\",E)"
      ]
    },
    {
      "cell_type": "code",
      "source": [
        "# Test Code for Figure 2.1\n",
        "# molecules = 1 in array and empty spaces = 0\n",
        "E=0\n",
        "grid = 4\n",
        "elements = 4\n",
        "system = np.zeros((grid,grid),dtype=int)\n",
        "system[0,1] = 1\n",
        "system[1,2] = 1\n",
        "print(system)\n",
        "microstates(system)"
      ],
      "metadata": {
        "id": "eeGmJxHXI2Ff",
        "outputId": "8db7dc17-4f6a-44ff-b414-f0b6f4afe706",
        "colab": {
          "base_uri": "https://localhost:8080/"
        }
      },
      "execution_count": 3,
      "outputs": [
        {
          "output_type": "stream",
          "name": "stdout",
          "text": [
            "[[0 1 0 0]\n",
            " [0 0 1 0]\n",
            " [0 0 0 0]\n",
            " [0 0 0 0]]\n",
            "E = 0\n"
          ]
        }
      ]
    },
    {
      "cell_type": "code",
      "source": [
        "# Test Code for Figure 2.1\n",
        "E = 0\n",
        "grid = 4\n",
        "elements = 4\n",
        "system = np.zeros((grid,grid),dtype=int)\n",
        "system[1,0] = 1\n",
        "system[1,1] = 1\n",
        "print(system)\n",
        "microstates(system)"
      ],
      "metadata": {
        "id": "6QEyavqIe_Cg",
        "outputId": "8c96d524-fdd4-443c-b936-5e61c9174e4c",
        "colab": {
          "base_uri": "https://localhost:8080/"
        }
      },
      "execution_count": 4,
      "outputs": [
        {
          "output_type": "stream",
          "name": "stdout",
          "text": [
            "[[0 0 0 0]\n",
            " [1 1 0 0]\n",
            " [0 0 0 0]\n",
            " [0 0 0 0]]\n",
            "E = -1\n"
          ]
        }
      ]
    },
    {
      "cell_type": "code",
      "source": [
        "# Test Code for Figure 2.1\n",
        "E = 0\n",
        "grid = 4\n",
        "elements = 4\n",
        "system = np.zeros((grid,grid),dtype=int)\n",
        "system[0,0] = 1\n",
        "system[2,2] = 1\n",
        "print(system)\n",
        "microstates(system)"
      ],
      "metadata": {
        "id": "xtIcAX5ym-dp",
        "outputId": "da9911db-f567-4c26-f6b4-d6def8769e76",
        "colab": {
          "base_uri": "https://localhost:8080/"
        }
      },
      "execution_count": 5,
      "outputs": [
        {
          "output_type": "stream",
          "name": "stdout",
          "text": [
            "[[1 0 0 0]\n",
            " [0 0 0 0]\n",
            " [0 0 1 0]\n",
            " [0 0 0 0]]\n",
            "E = 0\n"
          ]
        }
      ]
    },
    {
      "cell_type": "code",
      "source": [
        "# Test Code for Figure 2.1\n",
        "# note that function written was for indistguishable molecules\n",
        "E = 0\n",
        "grid = 4\n",
        "elements = 4\n",
        "system = np.zeros((grid,grid),dtype=int)\n",
        "system[1,3] = 1\n",
        "system[2,3] = 1\n",
        "print(system)\n",
        "microstates(system)"
      ],
      "metadata": {
        "id": "wU5BeZ2pnFdp",
        "outputId": "66c42cbd-bf28-4bca-8b7e-ecb80dacbada",
        "colab": {
          "base_uri": "https://localhost:8080/"
        }
      },
      "execution_count": 6,
      "outputs": [
        {
          "output_type": "stream",
          "name": "stdout",
          "text": [
            "[[0 0 0 0]\n",
            " [0 0 0 1]\n",
            " [0 0 0 1]\n",
            " [0 0 0 0]]\n",
            "E = -1\n"
          ]
        }
      ]
    },
    {
      "cell_type": "code",
      "source": [
        "#2.8\n",
        "#combination formula and stirling's approximation\n",
        "#stirling's approximation = ln(n!) ~ nln(n) - n\n",
        "#combination formula C = n!/k!(n-k)!\n",
        "#ln(C) = ln(n!/k!(n-k)!)\n",
        "#ln(C) = ln(n!) - ln(k!(n-k)!) = ln(n!) - ln(k!) - ln((n-k)!) --> stirling's approximation\n",
        "#ln(C) = nln(n) - n - kln(k) + k - (n-k)ln(n-k) + n - k --> factor out -n and replace k/n = x\n",
        "#ln(C) = -n[-ln(n) + xln(k) + (1-x)ln(n-k)]\n",
        "#ln(C) = -n[(x+1)ln(x) + (1-x)ln(1-x)] #close but I found (x+1) instead of x\n"
      ],
      "metadata": {
        "id": "mGxJLp8VnLzc"
      },
      "execution_count": 7,
      "outputs": []
    },
    {
      "cell_type": "code",
      "source": [
        "#How good is Stirling's approximation?\n",
        "import math\n",
        "n = 20\n",
        "print(math.log(math.factorial(n)))\n",
        "print(\"approximation:\",(n*math.log(n)-n))"
      ],
      "metadata": {
        "id": "kVQIwxMsylHS",
        "outputId": "c6e61e0f-01b8-4fa5-af0e-2e369afeb2a7",
        "colab": {
          "base_uri": "https://localhost:8080/"
        }
      },
      "execution_count": 8,
      "outputs": [
        {
          "output_type": "stream",
          "name": "stdout",
          "text": [
            "42.335616460753485\n",
            "approximation: 39.914645471079815\n"
          ]
        }
      ]
    },
    {
      "cell_type": "code",
      "source": [
        "n = 200\n",
        "print(math.log(math.factorial(n)))\n",
        "print(\"approximation:\",(n*math.log(n)-n))"
      ],
      "metadata": {
        "id": "4gNOygEcWihk",
        "outputId": "7a64b559-f0bb-449d-ad2b-e0182f14dec4",
        "colab": {
          "base_uri": "https://localhost:8080/"
        }
      },
      "execution_count": 9,
      "outputs": [
        {
          "output_type": "stream",
          "name": "stdout",
          "text": [
            "863.2319871924054\n",
            "approximation: 859.6634733096073\n"
          ]
        }
      ]
    },
    {
      "cell_type": "code",
      "source": [
        "n = 2000\n",
        "print(math.log(math.factorial(n)))\n",
        "print(\"approximation:\",(n*math.log(n)-n))"
      ],
      "metadata": {
        "id": "dcL9dappWqVB",
        "outputId": "3b8018b6-df86-49dd-dbe7-5c05548d9d92",
        "colab": {
          "base_uri": "https://localhost:8080/"
        }
      },
      "execution_count": 10,
      "outputs": [
        {
          "output_type": "stream",
          "name": "stdout",
          "text": [
            "13206.524350513806\n",
            "approximation: 13201.804919084165\n"
          ]
        }
      ]
    },
    {
      "cell_type": "code",
      "source": [
        "##pretty good"
      ],
      "metadata": {
        "id": "F4a9dBYHWs4T"
      },
      "execution_count": 11,
      "outputs": []
    },
    {
      "cell_type": "code",
      "source": [],
      "metadata": {
        "id": "CAFtk698XWq_"
      },
      "execution_count": null,
      "outputs": []
    }
  ]
}